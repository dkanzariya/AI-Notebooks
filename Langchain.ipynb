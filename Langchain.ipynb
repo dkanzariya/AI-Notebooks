{
 "cells": [
  {
   "cell_type": "code",
   "execution_count": 1,
   "metadata": {},
   "outputs": [
    {
     "name": "stdout",
     "output_type": "stream",
     "text": [
      "Collecting langchain_core\n",
      "  Downloading langchain_core-0.1.42-py3-none-any.whl.metadata (5.9 kB)\n",
      "Collecting langchain_anthropic\n",
      "  Downloading langchain_anthropic-0.1.8-py3-none-any.whl.metadata (2.1 kB)\n",
      "Requirement already satisfied: PyYAML>=5.3 in /system/conda/miniconda3/envs/cloudspace/lib/python3.10/site-packages (from langchain_core) (6.0.1)\n",
      "Collecting jsonpatch<2.0,>=1.33 (from langchain_core)\n",
      "  Downloading jsonpatch-1.33-py2.py3-none-any.whl.metadata (3.0 kB)\n",
      "Collecting langsmith<0.2.0,>=0.1.0 (from langchain_core)\n",
      "  Downloading langsmith-0.1.47-py3-none-any.whl.metadata (13 kB)\n",
      "Collecting packaging<24.0,>=23.2 (from langchain_core)\n",
      "  Downloading packaging-23.2-py3-none-any.whl.metadata (3.2 kB)\n",
      "Requirement already satisfied: pydantic<3,>=1 in /system/conda/miniconda3/envs/cloudspace/lib/python3.10/site-packages (from langchain_core) (2.7.0)\n",
      "Collecting tenacity<9.0.0,>=8.1.0 (from langchain_core)\n",
      "  Downloading tenacity-8.2.3-py3-none-any.whl.metadata (1.0 kB)\n",
      "Collecting anthropic<1,>=0.23.0 (from langchain_anthropic)\n",
      "  Downloading anthropic-0.25.1-py3-none-any.whl.metadata (18 kB)\n",
      "Requirement already satisfied: defusedxml<0.8.0,>=0.7.1 in /system/conda/miniconda3/envs/cloudspace/lib/python3.10/site-packages (from langchain_anthropic) (0.7.1)\n",
      "Requirement already satisfied: anyio<5,>=3.5.0 in /system/conda/miniconda3/envs/cloudspace/lib/python3.10/site-packages (from anthropic<1,>=0.23.0->langchain_anthropic) (4.3.0)\n",
      "Collecting distro<2,>=1.7.0 (from anthropic<1,>=0.23.0->langchain_anthropic)\n",
      "  Downloading distro-1.9.0-py3-none-any.whl.metadata (6.8 kB)\n",
      "Collecting httpx<1,>=0.23.0 (from anthropic<1,>=0.23.0->langchain_anthropic)\n",
      "  Downloading httpx-0.27.0-py3-none-any.whl.metadata (7.2 kB)\n",
      "Requirement already satisfied: sniffio in /system/conda/miniconda3/envs/cloudspace/lib/python3.10/site-packages (from anthropic<1,>=0.23.0->langchain_anthropic) (1.3.1)\n",
      "Collecting tokenizers>=0.13.0 (from anthropic<1,>=0.23.0->langchain_anthropic)\n",
      "  Downloading tokenizers-0.15.2-cp310-cp310-manylinux_2_17_x86_64.manylinux2014_x86_64.whl.metadata (6.7 kB)\n",
      "Requirement already satisfied: typing-extensions<5,>=4.7 in /system/conda/miniconda3/envs/cloudspace/lib/python3.10/site-packages (from anthropic<1,>=0.23.0->langchain_anthropic) (4.11.0)\n",
      "Requirement already satisfied: jsonpointer>=1.9 in /system/conda/miniconda3/envs/cloudspace/lib/python3.10/site-packages (from jsonpatch<2.0,>=1.33->langchain_core) (2.4)\n",
      "Collecting orjson<4.0.0,>=3.9.14 (from langsmith<0.2.0,>=0.1.0->langchain_core)\n",
      "  Downloading orjson-3.10.0-cp310-cp310-manylinux_2_17_x86_64.manylinux2014_x86_64.whl.metadata (49 kB)\n",
      "\u001b[2K     \u001b[90m━━━━━━━━━━━━━━━━━━━━━━━━━━━━━━━━━━━━━━━━\u001b[0m \u001b[32m49.5/49.5 kB\u001b[0m \u001b[31m4.2 MB/s\u001b[0m eta \u001b[36m0:00:00\u001b[0m\n",
      "\u001b[?25hRequirement already satisfied: requests<3,>=2 in /system/conda/miniconda3/envs/cloudspace/lib/python3.10/site-packages (from langsmith<0.2.0,>=0.1.0->langchain_core) (2.31.0)\n",
      "Requirement already satisfied: annotated-types>=0.4.0 in /system/conda/miniconda3/envs/cloudspace/lib/python3.10/site-packages (from pydantic<3,>=1->langchain_core) (0.6.0)\n",
      "Requirement already satisfied: pydantic-core==2.18.1 in /system/conda/miniconda3/envs/cloudspace/lib/python3.10/site-packages (from pydantic<3,>=1->langchain_core) (2.18.1)\n",
      "Requirement already satisfied: idna>=2.8 in /system/conda/miniconda3/envs/cloudspace/lib/python3.10/site-packages (from anyio<5,>=3.5.0->anthropic<1,>=0.23.0->langchain_anthropic) (3.7)\n",
      "Requirement already satisfied: exceptiongroup>=1.0.2 in /system/conda/miniconda3/envs/cloudspace/lib/python3.10/site-packages (from anyio<5,>=3.5.0->anthropic<1,>=0.23.0->langchain_anthropic) (1.2.0)\n",
      "Requirement already satisfied: certifi in /system/conda/miniconda3/envs/cloudspace/lib/python3.10/site-packages (from httpx<1,>=0.23.0->anthropic<1,>=0.23.0->langchain_anthropic) (2024.2.2)\n",
      "Collecting httpcore==1.* (from httpx<1,>=0.23.0->anthropic<1,>=0.23.0->langchain_anthropic)\n",
      "  Downloading httpcore-1.0.5-py3-none-any.whl.metadata (20 kB)\n",
      "Requirement already satisfied: h11<0.15,>=0.13 in /system/conda/miniconda3/envs/cloudspace/lib/python3.10/site-packages (from httpcore==1.*->httpx<1,>=0.23.0->anthropic<1,>=0.23.0->langchain_anthropic) (0.14.0)\n",
      "Requirement already satisfied: charset-normalizer<4,>=2 in /system/conda/miniconda3/envs/cloudspace/lib/python3.10/site-packages (from requests<3,>=2->langsmith<0.2.0,>=0.1.0->langchain_core) (3.3.2)\n",
      "Requirement already satisfied: urllib3<3,>=1.21.1 in /system/conda/miniconda3/envs/cloudspace/lib/python3.10/site-packages (from requests<3,>=2->langsmith<0.2.0,>=0.1.0->langchain_core) (2.2.1)\n",
      "Collecting huggingface_hub<1.0,>=0.16.4 (from tokenizers>=0.13.0->anthropic<1,>=0.23.0->langchain_anthropic)\n",
      "  Downloading huggingface_hub-0.22.2-py3-none-any.whl.metadata (12 kB)\n",
      "Requirement already satisfied: filelock in /system/conda/miniconda3/envs/cloudspace/lib/python3.10/site-packages (from huggingface_hub<1.0,>=0.16.4->tokenizers>=0.13.0->anthropic<1,>=0.23.0->langchain_anthropic) (3.13.4)\n",
      "Requirement already satisfied: fsspec>=2023.5.0 in /system/conda/miniconda3/envs/cloudspace/lib/python3.10/site-packages (from huggingface_hub<1.0,>=0.16.4->tokenizers>=0.13.0->anthropic<1,>=0.23.0->langchain_anthropic) (2024.3.1)\n",
      "Requirement already satisfied: tqdm>=4.42.1 in /system/conda/miniconda3/envs/cloudspace/lib/python3.10/site-packages (from huggingface_hub<1.0,>=0.16.4->tokenizers>=0.13.0->anthropic<1,>=0.23.0->langchain_anthropic) (4.66.2)\n",
      "Downloading langchain_core-0.1.42-py3-none-any.whl (287 kB)\n",
      "\u001b[2K   \u001b[90m━━━━━━━━━━━━━━━━━━━━━━━━━━━━━━━━━━━━━━━━\u001b[0m \u001b[32m287.5/287.5 kB\u001b[0m \u001b[31m29.8 MB/s\u001b[0m eta \u001b[36m0:00:00\u001b[0m\n",
      "\u001b[?25hDownloading langchain_anthropic-0.1.8-py3-none-any.whl (15 kB)\n",
      "Downloading anthropic-0.25.1-py3-none-any.whl (870 kB)\n",
      "\u001b[2K   \u001b[90m━━━━━━━━━━━━━━━━━━━━━━━━━━━━━━━━━━━━━━━━\u001b[0m \u001b[32m870.5/870.5 kB\u001b[0m \u001b[31m52.9 MB/s\u001b[0m eta \u001b[36m0:00:00\u001b[0m\n",
      "\u001b[?25hDownloading jsonpatch-1.33-py2.py3-none-any.whl (12 kB)\n",
      "Downloading langsmith-0.1.47-py3-none-any.whl (113 kB)\n",
      "\u001b[2K   \u001b[90m━━━━━━━━━━━━━━━━━━━━━━━━━━━━━━━━━━━━━━━━\u001b[0m \u001b[32m113.0/113.0 kB\u001b[0m \u001b[31m14.2 MB/s\u001b[0m eta \u001b[36m0:00:00\u001b[0m\n",
      "\u001b[?25hDownloading packaging-23.2-py3-none-any.whl (53 kB)\n",
      "\u001b[2K   \u001b[90m━━━━━━━━━━━━━━━━━━━━━━━━━━━━━━━━━━━━━━━━\u001b[0m \u001b[32m53.0/53.0 kB\u001b[0m \u001b[31m4.4 MB/s\u001b[0m eta \u001b[36m0:00:00\u001b[0m\n",
      "\u001b[?25hDownloading tenacity-8.2.3-py3-none-any.whl (24 kB)\n",
      "Downloading distro-1.9.0-py3-none-any.whl (20 kB)\n",
      "Downloading httpx-0.27.0-py3-none-any.whl (75 kB)\n",
      "\u001b[2K   \u001b[90m━━━━━━━━━━━━━━━━━━━━━━━━━━━━━━━━━━━━━━━━\u001b[0m \u001b[32m75.6/75.6 kB\u001b[0m \u001b[31m8.8 MB/s\u001b[0m eta \u001b[36m0:00:00\u001b[0m\n",
      "\u001b[?25hDownloading httpcore-1.0.5-py3-none-any.whl (77 kB)\n",
      "\u001b[2K   \u001b[90m━━━━━━━━━━━━━━━━━━━━━━━━━━━━━━━━━━━━━━━━\u001b[0m \u001b[32m77.9/77.9 kB\u001b[0m \u001b[31m4.8 MB/s\u001b[0m eta \u001b[36m0:00:00\u001b[0m\n",
      "\u001b[?25hDownloading orjson-3.10.0-cp310-cp310-manylinux_2_17_x86_64.manylinux2014_x86_64.whl (144 kB)\n",
      "\u001b[2K   \u001b[90m━━━━━━━━━━━━━━━━━━━━━━━━━━━━━━━━━━━━━━━━\u001b[0m \u001b[32m144.8/144.8 kB\u001b[0m \u001b[31m12.0 MB/s\u001b[0m eta \u001b[36m0:00:00\u001b[0m\n",
      "\u001b[?25hDownloading tokenizers-0.15.2-cp310-cp310-manylinux_2_17_x86_64.manylinux2014_x86_64.whl (3.6 MB)\n",
      "\u001b[2K   \u001b[90m━━━━━━━━━━━━━━━━━━━━━━━━━━━━━━━━━━━━━━━━\u001b[0m \u001b[32m3.6/3.6 MB\u001b[0m \u001b[31m84.8 MB/s\u001b[0m eta \u001b[36m0:00:00\u001b[0m:00:01\u001b[0m\n",
      "\u001b[?25hDownloading huggingface_hub-0.22.2-py3-none-any.whl (388 kB)\n",
      "\u001b[2K   \u001b[90m━━━━━━━━━━━━━━━━━━━━━━━━━━━━━━━━━━━━━━━━\u001b[0m \u001b[32m388.9/388.9 kB\u001b[0m \u001b[31m22.7 MB/s\u001b[0m eta \u001b[36m0:00:00\u001b[0m\n",
      "\u001b[?25hInstalling collected packages: tenacity, packaging, orjson, jsonpatch, httpcore, distro, huggingface_hub, httpx, tokenizers, langsmith, langchain_core, anthropic, langchain_anthropic\n",
      "  Attempting uninstall: packaging\n",
      "    Found existing installation: packaging 24.0\n",
      "    Uninstalling packaging-24.0:\n",
      "      Successfully uninstalled packaging-24.0\n",
      "Successfully installed anthropic-0.25.1 distro-1.9.0 httpcore-1.0.5 httpx-0.27.0 huggingface_hub-0.22.2 jsonpatch-1.33 langchain_anthropic-0.1.8 langchain_core-0.1.42 langsmith-0.1.47 orjson-3.10.0 packaging-23.2 tenacity-8.2.3 tokenizers-0.15.2\n",
      "Note: you may need to restart the kernel to use updated packages.\n"
     ]
    }
   ],
   "source": [
    "%pip install langchain_core langchain_anthropic"
   ]
  },
  {
   "cell_type": "code",
   "execution_count": 5,
   "metadata": {},
   "outputs": [],
   "source": [
    "from langchain_anthropic import ChatAnthropic\n",
    "\n",
    "# chat_model = ChatAnthropic(\n",
    "#     model=\"claude-3-sonnet-20240229\",\n",
    "#     temperature=0\n",
    "# )\n",
    "\n",
    "# If you prefer to pass your key explicitly\n",
    "chat_model = ChatAnthropic(\n",
    "  model=\"claude-3-haiku-20240307\",\n",
    "  temperature=0,\n",
    "  api_key=\"[API_Key",
    ")"
   ]
  },
  {
   "cell_type": "code",
   "execution_count": 6,
   "metadata": {},
   "outputs": [
    {
     "data": {
      "text/plain": [
       "AIMessage(content=\"Here's a bear joke for you:\\n\\nWhy don't bears wear socks? \\nBecause they have bear feet!\\n\\nHow's that? I tried to come up with a silly pun-based joke about bears. Hopefully you found it at least mildly amusing! Let me know if you'd like to hear another bear-themed joke.\", response_metadata={'id': 'msg_01898zBpvwaDy6duf7ddeCne', 'model': 'claude-3-haiku-20240307', 'stop_reason': 'end_turn', 'stop_sequence': None, 'usage': {'input_tokens': 14, 'output_tokens': 76}}, id='run-79404cdc-1058-451a-9030-f953ddf9a62d-0')"
      ]
     },
     "execution_count": 6,
     "metadata": {},
     "output_type": "execute_result"
    }
   ],
   "source": [
    "chat_model.invoke(\"Tell me a joke about bears!\")"
   ]
  },
  {
   "cell_type": "code",
   "execution_count": 7,
   "metadata": {},
   "outputs": [
    {
     "data": {
      "text/plain": [
       "AIMessage(content=\"Here's a bear joke for you:\\n\\nWhy don't bears wear socks? \\nBecause they have bear feet!\\n\\nHow's that? I tried to come up with a silly pun-based joke about bears. Hopefully you found it at least mildly amusing! Let me know if you'd like to hear another bear-themed joke.\", response_metadata={'id': 'msg_01Bru9oTQCeUivA7dj3KzcFU', 'model': 'claude-3-haiku-20240307', 'stop_reason': 'end_turn', 'stop_sequence': None, 'usage': {'input_tokens': 14, 'output_tokens': 76}}, id='run-26e3d967-bd50-45cb-a63b-17c144402ad8-0')"
      ]
     },
     "execution_count": 7,
     "metadata": {},
     "output_type": "execute_result"
    }
   ],
   "source": [
    "from langchain_core.messages import HumanMessage\n",
    "\n",
    "chat_model.invoke([\n",
    "    HumanMessage(\"Tell me a joke about bears!\")\n",
    "])"
   ]
  },
  {
   "cell_type": "code",
   "execution_count": 8,
   "metadata": {},
   "outputs": [],
   "source": [
    "from langchain_core.prompts import ChatPromptTemplate\n",
    "\n",
    "joke_prompt = ChatPromptTemplate.from_messages([\n",
    "    (\"system\", \"You are a world class comedian.\"),\n",
    "    (\"human\", \"Tell me a joke about {topic}\")\n",
    "])"
   ]
  },
  {
   "cell_type": "code",
   "execution_count": 9,
   "metadata": {},
   "outputs": [
    {
     "data": {
      "text/plain": [
       "ChatPromptValue(messages=[SystemMessage(content='You are a world class comedian.'), HumanMessage(content='Tell me a joke about beets')])"
      ]
     },
     "execution_count": 9,
     "metadata": {},
     "output_type": "execute_result"
    }
   ],
   "source": [
    "joke_prompt.invoke({\"topic\": \"beets\"})"
   ]
  },
  {
   "cell_type": "code",
   "execution_count": 10,
   "metadata": {},
   "outputs": [],
   "source": [
    "chain = joke_prompt | chat_model"
   ]
  },
  {
   "cell_type": "code",
   "execution_count": 11,
   "metadata": {},
   "outputs": [
    {
     "data": {
      "text/plain": [
       "AIMessage(content=\"Here's a beet-themed joke for you:\\n\\nWhy did the beet go to the doctor? \\nBecause it had a red-ish!\\n\\nBa dum tss! Beets are such an earthy, vibrant vegetable - they lend themselves well to some punny humor. I hope you enjoyed that silly little beet joke. Let me know if you'd like to hear any other vegetable-based comedy!\", response_metadata={'id': 'msg_012yC4HHPqPDDabcGKqE7fxj', 'model': 'claude-3-haiku-20240307', 'stop_reason': 'end_turn', 'stop_sequence': None, 'usage': {'input_tokens': 21, 'output_tokens': 96}}, id='run-0bd8ec1b-77af-493a-a47e-973c1dd62df1-0')"
      ]
     },
     "execution_count": 11,
     "metadata": {},
     "output_type": "execute_result"
    }
   ],
   "source": [
    "chain.invoke({\"topic\": \"beets\"})\n"
   ]
  },
  {
   "cell_type": "code",
   "execution_count": 13,
   "metadata": {},
   "outputs": [],
   "source": [
    "from langchain_core.output_parsers import StrOutputParser\n",
    "str_chain = chain | StrOutputParser()"
   ]
  },
  {
   "cell_type": "code",
   "execution_count": 14,
   "metadata": {},
   "outputs": [
    {
     "data": {
      "text/plain": [
       "\"Here's a beet-themed joke for you:\\n\\nWhy did the beet go to the doctor? \\nBecause it had a red-ish!\\n\\nBa dum tss! Beets are such an earthy, vibrant vegetable - they lend themselves well to some punny humor. I hope you enjoyed that silly little beet joke. Let me know if you'd like to hear any other vegetable-based comedy!\""
      ]
     },
     "execution_count": 14,
     "metadata": {},
     "output_type": "execute_result"
    }
   ],
   "source": [
    "str_chain.invoke({\"topic\": \"beets\"})"
   ]
  },
  {
   "cell_type": "code",
   "execution_count": 15,
   "metadata": {},
   "outputs": [
    {
     "name": "stdout",
     "output_type": "stream",
     "text": [
      "Here|'s| a| b|eet|-|themed| joke| for| you|:|\n",
      "\n",
      "Why| did| the| b|eet| go| to| the| doctor|?| |\n",
      "Because| it| had| a| red|-|ish| complex|ion|!|\n",
      "\n",
      "B|eets| are| such| an| ear|thy|,| vib|rant| veget|able| -| they| make| for| some| fun| p|uns| and| jokes|.| I| hope| you| enjoyed| that| one|!|"
     ]
    }
   ],
   "source": [
    "for chunk in str_chain.stream({\"topic\": \"beets\"}):\n",
    "    print(chunk, end=\"|\")"
   ]
  },
  {
   "cell_type": "code",
   "execution_count": 16,
   "metadata": {},
   "outputs": [
    {
     "data": {
      "text/plain": [
       "AIMessage(content=\"I don't actually have access to the current date. As an AI assistant without a direct connection to a calendar or clock, I don't have a way to independently determine the current date. I can only respond based on the information provided to me by my creators at Anthropic. If you need to know the current date, I'd suggest checking a calendar or asking another source that has that information readily available.\", response_metadata={'id': 'msg_01GLSeVmdoEqjGLNqjHqkdSL', 'model': 'claude-3-haiku-20240307', 'stop_reason': 'end_turn', 'stop_sequence': None, 'usage': {'input_tokens': 13, 'output_tokens': 86}}, id='run-ccc11d1a-28c5-460b-a385-295360593b31-0')"
      ]
     },
     "execution_count": 16,
     "metadata": {},
     "output_type": "execute_result"
    }
   ],
   "source": [
    "chat_model.invoke(\"What is the current date?\")"
   ]
  },
  {
   "cell_type": "code",
   "execution_count": 18,
   "metadata": {},
   "outputs": [
    {
     "data": {
      "text/plain": [
       "'I do not actually know the current date. In my previous message, I stated that the current date is \"2024-04-15\", but that was just an example date, not the actual current date. As an AI assistant, I do not have access to the real-time calendar or date information. I can only provide information based on what is explicitly provided to me or what is contained in my training data.'"
      ]
     },
     "execution_count": 18,
     "metadata": {},
     "output_type": "execute_result"
    }
   ],
   "source": [
    "from datetime import date\n",
    "\n",
    "prompt = ChatPromptTemplate.from_messages([\n",
    "    (\"system\", 'You know that the current date is \"{current_date}\".'),\n",
    "    (\"human\", \"{question}\")\n",
    "])\n",
    "\n",
    "chain = prompt | chat_model | StrOutputParser()\n",
    "\n",
    "chain.invoke({\n",
    "    \"question\": \"What is the current date?\",\n",
    "    \"current_date\": date.today()\n",
    "})"
   ]
  },
  {
   "cell_type": "code",
   "execution_count": 19,
   "metadata": {},
   "outputs": [
    {
     "data": {
      "text/plain": [
       "AIMessage(content=\"I'm afraid I don't have any specific information about the Old Ship Saloon's total revenue in Q1 2023. As an AI assistant, I don't have access to financial data for individual businesses unless that information has been publicly reported. Without being provided the relevant financial records, I don't have a way to determine the Old Ship Saloon's revenue for that time period.\", response_metadata={'id': 'msg_011LjRSWNB4K7RbyELE9ZM4K', 'model': 'claude-3-haiku-20240307', 'stop_reason': 'end_turn', 'stop_sequence': None, 'usage': {'input_tokens': 25, 'output_tokens': 83}}, id='run-2dc62936-fd4b-443a-95aa-bfc5ba2547c3-0')"
      ]
     },
     "execution_count": 19,
     "metadata": {},
     "output_type": "execute_result"
    }
   ],
   "source": [
    "chat_model.invoke(\n",
    "    \"What was the Old Ship Saloon's total revenue in Q1 2023?\"\n",
    " )"
   ]
  },
  {
   "cell_type": "code",
   "execution_count": 20,
   "metadata": {},
   "outputs": [
    {
     "data": {
      "text/plain": [
       "\"According to the provided context, the Old Ship Saloon's revenue in Q1 2023 was $174,782.38.\""
      ]
     },
     "execution_count": 20,
     "metadata": {},
     "output_type": "execute_result"
    }
   ],
   "source": [
    "SOURCE = \"\"\"\n",
    "Old Ship Saloon 2023 quarterly revenue numbers:\n",
    "Q1: $174782.38\n",
    "Q2: $467372.38\n",
    "Q3: $474773.38\n",
    "Q4: $389289.23\n",
    "\"\"\"\n",
    "\n",
    "rag_prompt = ChatPromptTemplate.from_messages([\n",
    "    (\"system\", 'You are a helpful assistant. Use the following context when responding:\\n\\n{context}.'),\n",
    "    (\"human\", \"{question}\")\n",
    "])\n",
    "\n",
    "rag_chain = rag_prompt | chat_model | StrOutputParser()\n",
    "\n",
    "rag_chain.invoke({\n",
    "    \"question\": \"What was the Old Ship Saloon's total revenue in Q1 2023?\",\n",
    "    \"context\": SOURCE\n",
    "})"
   ]
  },
  {
   "cell_type": "code",
   "execution_count": 23,
   "metadata": {},
   "outputs": [
    {
     "name": "stdout",
     "output_type": "stream",
     "text": [
      "\u001b[32;1m\u001b[1;3m[chain/start]\u001b[0m \u001b[1m[1:chain:RunnableSequence] Entering Chain run with input:\n",
      "\u001b[0m[inputs]\n",
      "\u001b[32;1m\u001b[1;3m[chain/start]\u001b[0m \u001b[1m[1:chain:RunnableSequence > 2:prompt:ChatPromptTemplate] Entering Prompt run with input:\n",
      "\u001b[0m[inputs]\n",
      "\u001b[36;1m\u001b[1;3m[chain/end]\u001b[0m \u001b[1m[1:chain:RunnableSequence > 2:prompt:ChatPromptTemplate] [1ms] Exiting Prompt run with output:\n",
      "\u001b[0m[outputs]\n",
      "\u001b[32;1m\u001b[1;3m[llm/start]\u001b[0m \u001b[1m[1:chain:RunnableSequence > 3:llm:ChatAnthropic] Entering LLM run with input:\n",
      "\u001b[0m{\n",
      "  \"prompts\": [\n",
      "    \"System: You know that the current date is \\\"2024-04-15\\\".\\nHuman: What is the current date?\"\n",
      "  ]\n",
      "}\n"
     ]
    },
    {
     "name": "stdout",
     "output_type": "stream",
     "text": [
      "\u001b[36;1m\u001b[1;3m[llm/end]\u001b[0m \u001b[1m[1:chain:RunnableSequence > 3:llm:ChatAnthropic] [2.07s] Exiting LLM run with output:\n",
      "\u001b[0m{\n",
      "  \"generations\": [\n",
      "    [\n",
      "      {\n",
      "        \"text\": \"I do not actually know the current date. In my previous message, I stated that the current date is \\\"2024-04-15\\\", but that was just an example date, not the actual current date. As an AI assistant, I do not have access to the real-time calendar or date information. I can only provide information based on what is explicitly given to me or what is contained in my training data. Without being provided the current date, I do not know what the actual date is today.\",\n",
      "        \"generation_info\": null,\n",
      "        \"type\": \"ChatGeneration\",\n",
      "        \"message\": {\n",
      "          \"lc\": 1,\n",
      "          \"type\": \"constructor\",\n",
      "          \"id\": [\n",
      "            \"langchain\",\n",
      "            \"schema\",\n",
      "            \"messages\",\n",
      "            \"AIMessage\"\n",
      "          ],\n",
      "          \"kwargs\": {\n",
      "            \"content\": \"I do not actually know the current date. In my previous message, I stated that the current date is \\\"2024-04-15\\\", but that was just an example date, not the actual current date. As an AI assistant, I do not have access to the real-time calendar or date information. I can only provide information based on what is explicitly given to me or what is contained in my training data. Without being provided the current date, I do not know what the actual date is today.\",\n",
      "            \"tool_calls\": [],\n",
      "            \"invalid_tool_calls\": []\n",
      "          }\n",
      "        }\n",
      "      }\n",
      "    ]\n",
      "  ],\n",
      "  \"llm_output\": {\n",
      "    \"id\": \"msg_019rmhA8SYxWrtuT37XsbH9Q\",\n",
      "    \"model\": \"claude-3-haiku-20240307\",\n",
      "    \"stop_reason\": \"end_turn\",\n",
      "    \"stop_sequence\": null,\n",
      "    \"usage\": {\n",
      "      \"input_tokens\": 28,\n",
      "      \"output_tokens\": 106\n",
      "    }\n",
      "  },\n",
      "  \"run\": null\n",
      "}\n",
      "\u001b[32;1m\u001b[1;3m[chain/start]\u001b[0m \u001b[1m[1:chain:RunnableSequence > 4:parser:StrOutputParser] Entering Parser run with input:\n",
      "\u001b[0m[inputs]\n",
      "\u001b[36;1m\u001b[1;3m[chain/end]\u001b[0m \u001b[1m[1:chain:RunnableSequence > 4:parser:StrOutputParser] [0ms] Exiting Parser run with output:\n",
      "\u001b[0m{\n",
      "  \"output\": \"I do not actually know the current date. In my previous message, I stated that the current date is \\\"2024-04-15\\\", but that was just an example date, not the actual current date. As an AI assistant, I do not have access to the real-time calendar or date information. I can only provide information based on what is explicitly given to me or what is contained in my training data. Without being provided the current date, I do not know what the actual date is today.\"\n",
      "}\n",
      "\u001b[36;1m\u001b[1;3m[chain/end]\u001b[0m \u001b[1m[1:chain:RunnableSequence] [2.07s] Exiting Chain run with output:\n",
      "\u001b[0m{\n",
      "  \"output\": \"I do not actually know the current date. In my previous message, I stated that the current date is \\\"2024-04-15\\\", but that was just an example date, not the actual current date. As an AI assistant, I do not have access to the real-time calendar or date information. I can only provide information based on what is explicitly given to me or what is contained in my training data. Without being provided the current date, I do not know what the actual date is today.\"\n",
      "}\n"
     ]
    },
    {
     "data": {
      "text/plain": [
       "'I do not actually know the current date. In my previous message, I stated that the current date is \"2024-04-15\", but that was just an example date, not the actual current date. As an AI assistant, I do not have access to the real-time calendar or date information. I can only provide information based on what is explicitly given to me or what is contained in my training data. Without being provided the current date, I do not know what the actual date is today.'"
      ]
     },
     "execution_count": 23,
     "metadata": {},
     "output_type": "execute_result"
    }
   ],
   "source": [
    "from langchain.globals import set_debug\n",
    "\n",
    "set_debug(True)\n",
    "\n",
    "from datetime import date\n",
    "\n",
    "prompt = ChatPromptTemplate.from_messages([\n",
    "    (\"system\", 'You know that the current date is \"{current_date}\".'),\n",
    "    (\"human\", \"{question}\")\n",
    "])\n",
    "\n",
    "chain = prompt | chat_model | StrOutputParser()\n",
    "\n",
    "chain.invoke({\n",
    "    \"question\": \"What is the current date?\",\n",
    "    \"current_date\": date.today()\n",
    "})"
   ]
  },
  {
   "cell_type": "code",
   "execution_count": 24,
   "metadata": {},
   "outputs": [
    {
     "name": "stderr",
     "output_type": "stream",
     "text": [
      "/home/zeus/miniconda3/envs/cloudspace/lib/python3.10/site-packages/langchain_core/_api/beta_decorator.py:87: LangChainBetaWarning: This API is in beta and may change in the future.\n",
      "  warn_beta(\n"
     ]
    },
    {
     "name": "stdout",
     "output_type": "stream",
     "text": [
      "{'event': 'on_chain_start', 'run_id': 'a8da92f9-01a9-4922-a606-8605cb89589d', 'name': 'RunnableSequence', 'tags': [], 'metadata': {}, 'data': {'input': {'question': 'What is the current date?', 'current_date': datetime.date(2024, 4, 15)}}}\n",
      "-----\n",
      "{'event': 'on_prompt_start', 'name': 'ChatPromptTemplate', 'run_id': '62823c23-7183-4697-bad8-89d428514e2b', 'tags': ['seq:step:1'], 'metadata': {}, 'data': {'input': {'question': 'What is the current date?', 'current_date': datetime.date(2024, 4, 15)}}}\n",
      "-----\n",
      "{'event': 'on_prompt_end', 'name': 'ChatPromptTemplate', 'run_id': '62823c23-7183-4697-bad8-89d428514e2b', 'tags': ['seq:step:1'], 'metadata': {}, 'data': {'input': {'question': 'What is the current date?', 'current_date': datetime.date(2024, 4, 15)}, 'output': ChatPromptValue(messages=[SystemMessage(content='You know that the current date is \"2024-04-15\".'), HumanMessage(content='What is the current date?')])}}\n",
      "-----\n",
      "{'event': 'on_chat_model_start', 'name': 'ChatAnthropic', 'run_id': 'cf32020c-93b8-40a2-81c0-f2a5420dd385', 'tags': ['seq:step:2'], 'metadata': {}, 'data': {'input': {'messages': [[SystemMessage(content='You know that the current date is \"2024-04-15\".'), HumanMessage(content='What is the current date?')]]}}}\n",
      "-----\n",
      "{'event': 'on_chat_model_stream', 'name': 'ChatAnthropic', 'run_id': 'cf32020c-93b8-40a2-81c0-f2a5420dd385', 'tags': ['seq:step:2'], 'metadata': {}, 'data': {'chunk': AIMessageChunk(content='I', id='run-cf32020c-93b8-40a2-81c0-f2a5420dd385')}}\n",
      "-----\n",
      "{'event': 'on_parser_start', 'name': 'StrOutputParser', 'run_id': 'a59d32d6-c017-4a1b-a51d-98fba9572138', 'tags': ['seq:step:3'], 'metadata': {}, 'data': {}}\n",
      "-----\n",
      "{'event': 'on_parser_stream', 'name': 'StrOutputParser', 'run_id': 'a59d32d6-c017-4a1b-a51d-98fba9572138', 'tags': ['seq:step:3'], 'metadata': {}, 'data': {'chunk': 'I'}}\n",
      "-----\n",
      "{'event': 'on_chain_stream', 'run_id': 'a8da92f9-01a9-4922-a606-8605cb89589d', 'tags': [], 'metadata': {}, 'name': 'RunnableSequence', 'data': {'chunk': 'I'}}\n",
      "-----\n",
      "{'event': 'on_chat_model_stream', 'name': 'ChatAnthropic', 'run_id': 'cf32020c-93b8-40a2-81c0-f2a5420dd385', 'tags': ['seq:step:2'], 'metadata': {}, 'data': {'chunk': AIMessageChunk(content=' do', id='run-cf32020c-93b8-40a2-81c0-f2a5420dd385')}}\n",
      "-----\n",
      "{'event': 'on_parser_stream', 'name': 'StrOutputParser', 'run_id': 'a59d32d6-c017-4a1b-a51d-98fba9572138', 'tags': ['seq:step:3'], 'metadata': {}, 'data': {'chunk': ' do'}}\n",
      "-----\n",
      "{'event': 'on_chain_stream', 'run_id': 'a8da92f9-01a9-4922-a606-8605cb89589d', 'tags': [], 'metadata': {}, 'name': 'RunnableSequence', 'data': {'chunk': ' do'}}\n",
      "-----\n",
      "{'event': 'on_chat_model_stream', 'name': 'ChatAnthropic', 'run_id': 'cf32020c-93b8-40a2-81c0-f2a5420dd385', 'tags': ['seq:step:2'], 'metadata': {}, 'data': {'chunk': AIMessageChunk(content=' not', id='run-cf32020c-93b8-40a2-81c0-f2a5420dd385')}}\n",
      "-----\n",
      "{'event': 'on_parser_stream', 'name': 'StrOutputParser', 'run_id': 'a59d32d6-c017-4a1b-a51d-98fba9572138', 'tags': ['seq:step:3'], 'metadata': {}, 'data': {'chunk': ' not'}}\n",
      "-----\n",
      "{'event': 'on_chain_stream', 'run_id': 'a8da92f9-01a9-4922-a606-8605cb89589d', 'tags': [], 'metadata': {}, 'name': 'RunnableSequence', 'data': {'chunk': ' not'}}\n",
      "-----\n",
      "{'event': 'on_chat_model_stream', 'name': 'ChatAnthropic', 'run_id': 'cf32020c-93b8-40a2-81c0-f2a5420dd385', 'tags': ['seq:step:2'], 'metadata': {}, 'data': {'chunk': AIMessageChunk(content=' actually', id='run-cf32020c-93b8-40a2-81c0-f2a5420dd385')}}\n",
      "-----\n",
      "{'event': 'on_parser_stream', 'name': 'StrOutputParser', 'run_id': 'a59d32d6-c017-4a1b-a51d-98fba9572138', 'tags': ['seq:step:3'], 'metadata': {}, 'data': {'chunk': ' actually'}}\n",
      "-----\n",
      "{'event': 'on_chain_stream', 'run_id': 'a8da92f9-01a9-4922-a606-8605cb89589d', 'tags': [], 'metadata': {}, 'name': 'RunnableSequence', 'data': {'chunk': ' actually'}}\n",
      "-----\n",
      "{'event': 'on_chat_model_stream', 'name': 'ChatAnthropic', 'run_id': 'cf32020c-93b8-40a2-81c0-f2a5420dd385', 'tags': ['seq:step:2'], 'metadata': {}, 'data': {'chunk': AIMessageChunk(content=' know', id='run-cf32020c-93b8-40a2-81c0-f2a5420dd385')}}\n",
      "-----\n",
      "{'event': 'on_parser_stream', 'name': 'StrOutputParser', 'run_id': 'a59d32d6-c017-4a1b-a51d-98fba9572138', 'tags': ['seq:step:3'], 'metadata': {}, 'data': {'chunk': ' know'}}\n",
      "-----\n",
      "{'event': 'on_chain_stream', 'run_id': 'a8da92f9-01a9-4922-a606-8605cb89589d', 'tags': [], 'metadata': {}, 'name': 'RunnableSequence', 'data': {'chunk': ' know'}}\n",
      "-----\n",
      "{'event': 'on_chat_model_stream', 'name': 'ChatAnthropic', 'run_id': 'cf32020c-93b8-40a2-81c0-f2a5420dd385', 'tags': ['seq:step:2'], 'metadata': {}, 'data': {'chunk': AIMessageChunk(content=' the', id='run-cf32020c-93b8-40a2-81c0-f2a5420dd385')}}\n",
      "-----\n",
      "{'event': 'on_parser_stream', 'name': 'StrOutputParser', 'run_id': 'a59d32d6-c017-4a1b-a51d-98fba9572138', 'tags': ['seq:step:3'], 'metadata': {}, 'data': {'chunk': ' the'}}\n",
      "-----\n",
      "{'event': 'on_chain_stream', 'run_id': 'a8da92f9-01a9-4922-a606-8605cb89589d', 'tags': [], 'metadata': {}, 'name': 'RunnableSequence', 'data': {'chunk': ' the'}}\n",
      "-----\n",
      "{'event': 'on_chat_model_stream', 'name': 'ChatAnthropic', 'run_id': 'cf32020c-93b8-40a2-81c0-f2a5420dd385', 'tags': ['seq:step:2'], 'metadata': {}, 'data': {'chunk': AIMessageChunk(content=' current', id='run-cf32020c-93b8-40a2-81c0-f2a5420dd385')}}\n",
      "-----\n",
      "{'event': 'on_parser_stream', 'name': 'StrOutputParser', 'run_id': 'a59d32d6-c017-4a1b-a51d-98fba9572138', 'tags': ['seq:step:3'], 'metadata': {}, 'data': {'chunk': ' current'}}\n",
      "-----\n",
      "{'event': 'on_chain_stream', 'run_id': 'a8da92f9-01a9-4922-a606-8605cb89589d', 'tags': [], 'metadata': {}, 'name': 'RunnableSequence', 'data': {'chunk': ' current'}}\n",
      "-----\n",
      "{'event': 'on_chat_model_stream', 'name': 'ChatAnthropic', 'run_id': 'cf32020c-93b8-40a2-81c0-f2a5420dd385', 'tags': ['seq:step:2'], 'metadata': {}, 'data': {'chunk': AIMessageChunk(content=' date', id='run-cf32020c-93b8-40a2-81c0-f2a5420dd385')}}\n",
      "-----\n",
      "{'event': 'on_parser_stream', 'name': 'StrOutputParser', 'run_id': 'a59d32d6-c017-4a1b-a51d-98fba9572138', 'tags': ['seq:step:3'], 'metadata': {}, 'data': {'chunk': ' date'}}\n",
      "-----\n",
      "{'event': 'on_chain_stream', 'run_id': 'a8da92f9-01a9-4922-a606-8605cb89589d', 'tags': [], 'metadata': {}, 'name': 'RunnableSequence', 'data': {'chunk': ' date'}}\n",
      "-----\n",
      "{'event': 'on_chat_model_stream', 'name': 'ChatAnthropic', 'run_id': 'cf32020c-93b8-40a2-81c0-f2a5420dd385', 'tags': ['seq:step:2'], 'metadata': {}, 'data': {'chunk': AIMessageChunk(content='.', id='run-cf32020c-93b8-40a2-81c0-f2a5420dd385')}}\n",
      "-----\n",
      "{'event': 'on_parser_stream', 'name': 'StrOutputParser', 'run_id': 'a59d32d6-c017-4a1b-a51d-98fba9572138', 'tags': ['seq:step:3'], 'metadata': {}, 'data': {'chunk': '.'}}\n",
      "-----\n",
      "{'event': 'on_chain_stream', 'run_id': 'a8da92f9-01a9-4922-a606-8605cb89589d', 'tags': [], 'metadata': {}, 'name': 'RunnableSequence', 'data': {'chunk': '.'}}\n",
      "-----\n",
      "{'event': 'on_chat_model_stream', 'name': 'ChatAnthropic', 'run_id': 'cf32020c-93b8-40a2-81c0-f2a5420dd385', 'tags': ['seq:step:2'], 'metadata': {}, 'data': {'chunk': AIMessageChunk(content=' In', id='run-cf32020c-93b8-40a2-81c0-f2a5420dd385')}}\n",
      "-----\n",
      "{'event': 'on_parser_stream', 'name': 'StrOutputParser', 'run_id': 'a59d32d6-c017-4a1b-a51d-98fba9572138', 'tags': ['seq:step:3'], 'metadata': {}, 'data': {'chunk': ' In'}}\n",
      "-----\n",
      "{'event': 'on_chain_stream', 'run_id': 'a8da92f9-01a9-4922-a606-8605cb89589d', 'tags': [], 'metadata': {}, 'name': 'RunnableSequence', 'data': {'chunk': ' In'}}\n",
      "-----\n",
      "{'event': 'on_chat_model_stream', 'name': 'ChatAnthropic', 'run_id': 'cf32020c-93b8-40a2-81c0-f2a5420dd385', 'tags': ['seq:step:2'], 'metadata': {}, 'data': {'chunk': AIMessageChunk(content=' your', id='run-cf32020c-93b8-40a2-81c0-f2a5420dd385')}}\n",
      "-----\n",
      "{'event': 'on_parser_stream', 'name': 'StrOutputParser', 'run_id': 'a59d32d6-c017-4a1b-a51d-98fba9572138', 'tags': ['seq:step:3'], 'metadata': {}, 'data': {'chunk': ' your'}}\n",
      "-----\n",
      "{'event': 'on_chain_stream', 'run_id': 'a8da92f9-01a9-4922-a606-8605cb89589d', 'tags': [], 'metadata': {}, 'name': 'RunnableSequence', 'data': {'chunk': ' your'}}\n",
      "-----\n",
      "{'event': 'on_chat_model_stream', 'name': 'ChatAnthropic', 'run_id': 'cf32020c-93b8-40a2-81c0-f2a5420dd385', 'tags': ['seq:step:2'], 'metadata': {}, 'data': {'chunk': AIMessageChunk(content=' previous', id='run-cf32020c-93b8-40a2-81c0-f2a5420dd385')}}\n",
      "-----\n",
      "{'event': 'on_parser_stream', 'name': 'StrOutputParser', 'run_id': 'a59d32d6-c017-4a1b-a51d-98fba9572138', 'tags': ['seq:step:3'], 'metadata': {}, 'data': {'chunk': ' previous'}}\n",
      "-----\n",
      "{'event': 'on_chain_stream', 'run_id': 'a8da92f9-01a9-4922-a606-8605cb89589d', 'tags': [], 'metadata': {}, 'name': 'RunnableSequence', 'data': {'chunk': ' previous'}}\n",
      "-----\n",
      "{'event': 'on_chat_model_stream', 'name': 'ChatAnthropic', 'run_id': 'cf32020c-93b8-40a2-81c0-f2a5420dd385', 'tags': ['seq:step:2'], 'metadata': {}, 'data': {'chunk': AIMessageChunk(content=' message', id='run-cf32020c-93b8-40a2-81c0-f2a5420dd385')}}\n",
      "-----\n",
      "{'event': 'on_parser_stream', 'name': 'StrOutputParser', 'run_id': 'a59d32d6-c017-4a1b-a51d-98fba9572138', 'tags': ['seq:step:3'], 'metadata': {}, 'data': {'chunk': ' message'}}\n",
      "-----\n",
      "{'event': 'on_chain_stream', 'run_id': 'a8da92f9-01a9-4922-a606-8605cb89589d', 'tags': [], 'metadata': {}, 'name': 'RunnableSequence', 'data': {'chunk': ' message'}}\n",
      "-----\n",
      "{'event': 'on_chat_model_stream', 'name': 'ChatAnthropic', 'run_id': 'cf32020c-93b8-40a2-81c0-f2a5420dd385', 'tags': ['seq:step:2'], 'metadata': {}, 'data': {'chunk': AIMessageChunk(content=',', id='run-cf32020c-93b8-40a2-81c0-f2a5420dd385')}}\n",
      "-----\n",
      "{'event': 'on_parser_stream', 'name': 'StrOutputParser', 'run_id': 'a59d32d6-c017-4a1b-a51d-98fba9572138', 'tags': ['seq:step:3'], 'metadata': {}, 'data': {'chunk': ','}}\n",
      "-----\n",
      "{'event': 'on_chain_stream', 'run_id': 'a8da92f9-01a9-4922-a606-8605cb89589d', 'tags': [], 'metadata': {}, 'name': 'RunnableSequence', 'data': {'chunk': ','}}\n",
      "-----\n",
      "{'event': 'on_chat_model_stream', 'name': 'ChatAnthropic', 'run_id': 'cf32020c-93b8-40a2-81c0-f2a5420dd385', 'tags': ['seq:step:2'], 'metadata': {}, 'data': {'chunk': AIMessageChunk(content=' you', id='run-cf32020c-93b8-40a2-81c0-f2a5420dd385')}}\n",
      "-----\n",
      "{'event': 'on_parser_stream', 'name': 'StrOutputParser', 'run_id': 'a59d32d6-c017-4a1b-a51d-98fba9572138', 'tags': ['seq:step:3'], 'metadata': {}, 'data': {'chunk': ' you'}}\n",
      "-----\n",
      "{'event': 'on_chain_stream', 'run_id': 'a8da92f9-01a9-4922-a606-8605cb89589d', 'tags': [], 'metadata': {}, 'name': 'RunnableSequence', 'data': {'chunk': ' you'}}\n",
      "-----\n",
      "{'event': 'on_chat_model_stream', 'name': 'ChatAnthropic', 'run_id': 'cf32020c-93b8-40a2-81c0-f2a5420dd385', 'tags': ['seq:step:2'], 'metadata': {}, 'data': {'chunk': AIMessageChunk(content=' stated', id='run-cf32020c-93b8-40a2-81c0-f2a5420dd385')}}\n",
      "-----\n",
      "{'event': 'on_parser_stream', 'name': 'StrOutputParser', 'run_id': 'a59d32d6-c017-4a1b-a51d-98fba9572138', 'tags': ['seq:step:3'], 'metadata': {}, 'data': {'chunk': ' stated'}}\n",
      "-----\n",
      "{'event': 'on_chain_stream', 'run_id': 'a8da92f9-01a9-4922-a606-8605cb89589d', 'tags': [], 'metadata': {}, 'name': 'RunnableSequence', 'data': {'chunk': ' stated'}}\n",
      "-----\n",
      "{'event': 'on_chat_model_stream', 'name': 'ChatAnthropic', 'run_id': 'cf32020c-93b8-40a2-81c0-f2a5420dd385', 'tags': ['seq:step:2'], 'metadata': {}, 'data': {'chunk': AIMessageChunk(content=' that', id='run-cf32020c-93b8-40a2-81c0-f2a5420dd385')}}\n",
      "-----\n",
      "{'event': 'on_parser_stream', 'name': 'StrOutputParser', 'run_id': 'a59d32d6-c017-4a1b-a51d-98fba9572138', 'tags': ['seq:step:3'], 'metadata': {}, 'data': {'chunk': ' that'}}\n",
      "-----\n",
      "{'event': 'on_chain_stream', 'run_id': 'a8da92f9-01a9-4922-a606-8605cb89589d', 'tags': [], 'metadata': {}, 'name': 'RunnableSequence', 'data': {'chunk': ' that'}}\n",
      "-----\n",
      "{'event': 'on_chat_model_stream', 'name': 'ChatAnthropic', 'run_id': 'cf32020c-93b8-40a2-81c0-f2a5420dd385', 'tags': ['seq:step:2'], 'metadata': {}, 'data': {'chunk': AIMessageChunk(content=' the', id='run-cf32020c-93b8-40a2-81c0-f2a5420dd385')}}\n",
      "-----\n",
      "{'event': 'on_parser_stream', 'name': 'StrOutputParser', 'run_id': 'a59d32d6-c017-4a1b-a51d-98fba9572138', 'tags': ['seq:step:3'], 'metadata': {}, 'data': {'chunk': ' the'}}\n",
      "-----\n",
      "{'event': 'on_chain_stream', 'run_id': 'a8da92f9-01a9-4922-a606-8605cb89589d', 'tags': [], 'metadata': {}, 'name': 'RunnableSequence', 'data': {'chunk': ' the'}}\n",
      "-----\n",
      "{'event': 'on_chat_model_stream', 'name': 'ChatAnthropic', 'run_id': 'cf32020c-93b8-40a2-81c0-f2a5420dd385', 'tags': ['seq:step:2'], 'metadata': {}, 'data': {'chunk': AIMessageChunk(content=' current', id='run-cf32020c-93b8-40a2-81c0-f2a5420dd385')}}\n",
      "-----\n",
      "{'event': 'on_parser_stream', 'name': 'StrOutputParser', 'run_id': 'a59d32d6-c017-4a1b-a51d-98fba9572138', 'tags': ['seq:step:3'], 'metadata': {}, 'data': {'chunk': ' current'}}\n",
      "-----\n",
      "{'event': 'on_chain_stream', 'run_id': 'a8da92f9-01a9-4922-a606-8605cb89589d', 'tags': [], 'metadata': {}, 'name': 'RunnableSequence', 'data': {'chunk': ' current'}}\n",
      "-----\n",
      "{'event': 'on_chat_model_stream', 'name': 'ChatAnthropic', 'run_id': 'cf32020c-93b8-40a2-81c0-f2a5420dd385', 'tags': ['seq:step:2'], 'metadata': {}, 'data': {'chunk': AIMessageChunk(content=' date', id='run-cf32020c-93b8-40a2-81c0-f2a5420dd385')}}\n",
      "-----\n",
      "{'event': 'on_parser_stream', 'name': 'StrOutputParser', 'run_id': 'a59d32d6-c017-4a1b-a51d-98fba9572138', 'tags': ['seq:step:3'], 'metadata': {}, 'data': {'chunk': ' date'}}\n",
      "-----\n",
      "{'event': 'on_chain_stream', 'run_id': 'a8da92f9-01a9-4922-a606-8605cb89589d', 'tags': [], 'metadata': {}, 'name': 'RunnableSequence', 'data': {'chunk': ' date'}}\n",
      "-----\n",
      "{'event': 'on_chat_model_stream', 'name': 'ChatAnthropic', 'run_id': 'cf32020c-93b8-40a2-81c0-f2a5420dd385', 'tags': ['seq:step:2'], 'metadata': {}, 'data': {'chunk': AIMessageChunk(content=' is', id='run-cf32020c-93b8-40a2-81c0-f2a5420dd385')}}\n",
      "-----\n",
      "{'event': 'on_parser_stream', 'name': 'StrOutputParser', 'run_id': 'a59d32d6-c017-4a1b-a51d-98fba9572138', 'tags': ['seq:step:3'], 'metadata': {}, 'data': {'chunk': ' is'}}\n",
      "-----\n",
      "{'event': 'on_chain_stream', 'run_id': 'a8da92f9-01a9-4922-a606-8605cb89589d', 'tags': [], 'metadata': {}, 'name': 'RunnableSequence', 'data': {'chunk': ' is'}}\n",
      "-----\n",
      "{'event': 'on_chat_model_stream', 'name': 'ChatAnthropic', 'run_id': 'cf32020c-93b8-40a2-81c0-f2a5420dd385', 'tags': ['seq:step:2'], 'metadata': {}, 'data': {'chunk': AIMessageChunk(content=' \"', id='run-cf32020c-93b8-40a2-81c0-f2a5420dd385')}}\n",
      "-----\n",
      "{'event': 'on_parser_stream', 'name': 'StrOutputParser', 'run_id': 'a59d32d6-c017-4a1b-a51d-98fba9572138', 'tags': ['seq:step:3'], 'metadata': {}, 'data': {'chunk': ' \"'}}\n",
      "-----\n",
      "{'event': 'on_chain_stream', 'run_id': 'a8da92f9-01a9-4922-a606-8605cb89589d', 'tags': [], 'metadata': {}, 'name': 'RunnableSequence', 'data': {'chunk': ' \"'}}\n",
      "-----\n",
      "{'event': 'on_chat_model_stream', 'name': 'ChatAnthropic', 'run_id': 'cf32020c-93b8-40a2-81c0-f2a5420dd385', 'tags': ['seq:step:2'], 'metadata': {}, 'data': {'chunk': AIMessageChunk(content='2', id='run-cf32020c-93b8-40a2-81c0-f2a5420dd385')}}\n",
      "-----\n",
      "{'event': 'on_parser_stream', 'name': 'StrOutputParser', 'run_id': 'a59d32d6-c017-4a1b-a51d-98fba9572138', 'tags': ['seq:step:3'], 'metadata': {}, 'data': {'chunk': '2'}}\n",
      "-----\n",
      "{'event': 'on_chain_stream', 'run_id': 'a8da92f9-01a9-4922-a606-8605cb89589d', 'tags': [], 'metadata': {}, 'name': 'RunnableSequence', 'data': {'chunk': '2'}}\n",
      "-----\n",
      "{'event': 'on_chat_model_stream', 'name': 'ChatAnthropic', 'run_id': 'cf32020c-93b8-40a2-81c0-f2a5420dd385', 'tags': ['seq:step:2'], 'metadata': {}, 'data': {'chunk': AIMessageChunk(content='024', id='run-cf32020c-93b8-40a2-81c0-f2a5420dd385')}}\n",
      "-----\n",
      "{'event': 'on_parser_stream', 'name': 'StrOutputParser', 'run_id': 'a59d32d6-c017-4a1b-a51d-98fba9572138', 'tags': ['seq:step:3'], 'metadata': {}, 'data': {'chunk': '024'}}\n",
      "-----\n",
      "{'event': 'on_chain_stream', 'run_id': 'a8da92f9-01a9-4922-a606-8605cb89589d', 'tags': [], 'metadata': {}, 'name': 'RunnableSequence', 'data': {'chunk': '024'}}\n",
      "-----\n",
      "{'event': 'on_chat_model_stream', 'name': 'ChatAnthropic', 'run_id': 'cf32020c-93b8-40a2-81c0-f2a5420dd385', 'tags': ['seq:step:2'], 'metadata': {}, 'data': {'chunk': AIMessageChunk(content='-', id='run-cf32020c-93b8-40a2-81c0-f2a5420dd385')}}\n",
      "-----\n",
      "{'event': 'on_parser_stream', 'name': 'StrOutputParser', 'run_id': 'a59d32d6-c017-4a1b-a51d-98fba9572138', 'tags': ['seq:step:3'], 'metadata': {}, 'data': {'chunk': '-'}}\n",
      "-----\n",
      "{'event': 'on_chain_stream', 'run_id': 'a8da92f9-01a9-4922-a606-8605cb89589d', 'tags': [], 'metadata': {}, 'name': 'RunnableSequence', 'data': {'chunk': '-'}}\n",
      "-----\n",
      "{'event': 'on_chat_model_stream', 'name': 'ChatAnthropic', 'run_id': 'cf32020c-93b8-40a2-81c0-f2a5420dd385', 'tags': ['seq:step:2'], 'metadata': {}, 'data': {'chunk': AIMessageChunk(content='04', id='run-cf32020c-93b8-40a2-81c0-f2a5420dd385')}}\n",
      "-----\n",
      "{'event': 'on_parser_stream', 'name': 'StrOutputParser', 'run_id': 'a59d32d6-c017-4a1b-a51d-98fba9572138', 'tags': ['seq:step:3'], 'metadata': {}, 'data': {'chunk': '04'}}\n",
      "-----\n",
      "{'event': 'on_chain_stream', 'run_id': 'a8da92f9-01a9-4922-a606-8605cb89589d', 'tags': [], 'metadata': {}, 'name': 'RunnableSequence', 'data': {'chunk': '04'}}\n",
      "-----\n",
      "{'event': 'on_chat_model_stream', 'name': 'ChatAnthropic', 'run_id': 'cf32020c-93b8-40a2-81c0-f2a5420dd385', 'tags': ['seq:step:2'], 'metadata': {}, 'data': {'chunk': AIMessageChunk(content='-', id='run-cf32020c-93b8-40a2-81c0-f2a5420dd385')}}\n",
      "-----\n",
      "{'event': 'on_parser_stream', 'name': 'StrOutputParser', 'run_id': 'a59d32d6-c017-4a1b-a51d-98fba9572138', 'tags': ['seq:step:3'], 'metadata': {}, 'data': {'chunk': '-'}}\n",
      "-----\n",
      "{'event': 'on_chain_stream', 'run_id': 'a8da92f9-01a9-4922-a606-8605cb89589d', 'tags': [], 'metadata': {}, 'name': 'RunnableSequence', 'data': {'chunk': '-'}}\n",
      "-----\n",
      "{'event': 'on_chat_model_stream', 'name': 'ChatAnthropic', 'run_id': 'cf32020c-93b8-40a2-81c0-f2a5420dd385', 'tags': ['seq:step:2'], 'metadata': {}, 'data': {'chunk': AIMessageChunk(content='15', id='run-cf32020c-93b8-40a2-81c0-f2a5420dd385')}}\n",
      "-----\n",
      "{'event': 'on_parser_stream', 'name': 'StrOutputParser', 'run_id': 'a59d32d6-c017-4a1b-a51d-98fba9572138', 'tags': ['seq:step:3'], 'metadata': {}, 'data': {'chunk': '15'}}\n",
      "-----\n",
      "{'event': 'on_chain_stream', 'run_id': 'a8da92f9-01a9-4922-a606-8605cb89589d', 'tags': [], 'metadata': {}, 'name': 'RunnableSequence', 'data': {'chunk': '15'}}\n",
      "-----\n",
      "{'event': 'on_chat_model_stream', 'name': 'ChatAnthropic', 'run_id': 'cf32020c-93b8-40a2-81c0-f2a5420dd385', 'tags': ['seq:step:2'], 'metadata': {}, 'data': {'chunk': AIMessageChunk(content='\",', id='run-cf32020c-93b8-40a2-81c0-f2a5420dd385')}}\n",
      "-----\n",
      "{'event': 'on_parser_stream', 'name': 'StrOutputParser', 'run_id': 'a59d32d6-c017-4a1b-a51d-98fba9572138', 'tags': ['seq:step:3'], 'metadata': {}, 'data': {'chunk': '\",'}}\n",
      "-----\n",
      "{'event': 'on_chain_stream', 'run_id': 'a8da92f9-01a9-4922-a606-8605cb89589d', 'tags': [], 'metadata': {}, 'name': 'RunnableSequence', 'data': {'chunk': '\",'}}\n",
      "-----\n",
      "{'event': 'on_chat_model_stream', 'name': 'ChatAnthropic', 'run_id': 'cf32020c-93b8-40a2-81c0-f2a5420dd385', 'tags': ['seq:step:2'], 'metadata': {}, 'data': {'chunk': AIMessageChunk(content=' but', id='run-cf32020c-93b8-40a2-81c0-f2a5420dd385')}}\n",
      "-----\n",
      "{'event': 'on_parser_stream', 'name': 'StrOutputParser', 'run_id': 'a59d32d6-c017-4a1b-a51d-98fba9572138', 'tags': ['seq:step:3'], 'metadata': {}, 'data': {'chunk': ' but'}}\n",
      "-----\n",
      "{'event': 'on_chain_stream', 'run_id': 'a8da92f9-01a9-4922-a606-8605cb89589d', 'tags': [], 'metadata': {}, 'name': 'RunnableSequence', 'data': {'chunk': ' but'}}\n",
      "-----\n",
      "{'event': 'on_chat_model_stream', 'name': 'ChatAnthropic', 'run_id': 'cf32020c-93b8-40a2-81c0-f2a5420dd385', 'tags': ['seq:step:2'], 'metadata': {}, 'data': {'chunk': AIMessageChunk(content=' I', id='run-cf32020c-93b8-40a2-81c0-f2a5420dd385')}}\n",
      "-----\n",
      "{'event': 'on_parser_stream', 'name': 'StrOutputParser', 'run_id': 'a59d32d6-c017-4a1b-a51d-98fba9572138', 'tags': ['seq:step:3'], 'metadata': {}, 'data': {'chunk': ' I'}}\n",
      "-----\n",
      "{'event': 'on_chain_stream', 'run_id': 'a8da92f9-01a9-4922-a606-8605cb89589d', 'tags': [], 'metadata': {}, 'name': 'RunnableSequence', 'data': {'chunk': ' I'}}\n",
      "-----\n",
      "{'event': 'on_chat_model_stream', 'name': 'ChatAnthropic', 'run_id': 'cf32020c-93b8-40a2-81c0-f2a5420dd385', 'tags': ['seq:step:2'], 'metadata': {}, 'data': {'chunk': AIMessageChunk(content=' do', id='run-cf32020c-93b8-40a2-81c0-f2a5420dd385')}}\n",
      "-----\n",
      "{'event': 'on_parser_stream', 'name': 'StrOutputParser', 'run_id': 'a59d32d6-c017-4a1b-a51d-98fba9572138', 'tags': ['seq:step:3'], 'metadata': {}, 'data': {'chunk': ' do'}}\n",
      "-----\n",
      "{'event': 'on_chain_stream', 'run_id': 'a8da92f9-01a9-4922-a606-8605cb89589d', 'tags': [], 'metadata': {}, 'name': 'RunnableSequence', 'data': {'chunk': ' do'}}\n",
      "-----\n",
      "{'event': 'on_chat_model_stream', 'name': 'ChatAnthropic', 'run_id': 'cf32020c-93b8-40a2-81c0-f2a5420dd385', 'tags': ['seq:step:2'], 'metadata': {}, 'data': {'chunk': AIMessageChunk(content=' not', id='run-cf32020c-93b8-40a2-81c0-f2a5420dd385')}}\n",
      "-----\n",
      "{'event': 'on_parser_stream', 'name': 'StrOutputParser', 'run_id': 'a59d32d6-c017-4a1b-a51d-98fba9572138', 'tags': ['seq:step:3'], 'metadata': {}, 'data': {'chunk': ' not'}}\n",
      "-----\n",
      "{'event': 'on_chain_stream', 'run_id': 'a8da92f9-01a9-4922-a606-8605cb89589d', 'tags': [], 'metadata': {}, 'name': 'RunnableSequence', 'data': {'chunk': ' not'}}\n",
      "-----\n",
      "{'event': 'on_chat_model_stream', 'name': 'ChatAnthropic', 'run_id': 'cf32020c-93b8-40a2-81c0-f2a5420dd385', 'tags': ['seq:step:2'], 'metadata': {}, 'data': {'chunk': AIMessageChunk(content=' have', id='run-cf32020c-93b8-40a2-81c0-f2a5420dd385')}}\n",
      "-----\n",
      "{'event': 'on_parser_stream', 'name': 'StrOutputParser', 'run_id': 'a59d32d6-c017-4a1b-a51d-98fba9572138', 'tags': ['seq:step:3'], 'metadata': {}, 'data': {'chunk': ' have'}}\n",
      "-----\n",
      "{'event': 'on_chain_stream', 'run_id': 'a8da92f9-01a9-4922-a606-8605cb89589d', 'tags': [], 'metadata': {}, 'name': 'RunnableSequence', 'data': {'chunk': ' have'}}\n",
      "-----\n",
      "{'event': 'on_chat_model_stream', 'name': 'ChatAnthropic', 'run_id': 'cf32020c-93b8-40a2-81c0-f2a5420dd385', 'tags': ['seq:step:2'], 'metadata': {}, 'data': {'chunk': AIMessageChunk(content=' access', id='run-cf32020c-93b8-40a2-81c0-f2a5420dd385')}}\n",
      "-----\n",
      "{'event': 'on_parser_stream', 'name': 'StrOutputParser', 'run_id': 'a59d32d6-c017-4a1b-a51d-98fba9572138', 'tags': ['seq:step:3'], 'metadata': {}, 'data': {'chunk': ' access'}}\n",
      "-----\n",
      "{'event': 'on_chain_stream', 'run_id': 'a8da92f9-01a9-4922-a606-8605cb89589d', 'tags': [], 'metadata': {}, 'name': 'RunnableSequence', 'data': {'chunk': ' access'}}\n",
      "-----\n",
      "{'event': 'on_chat_model_stream', 'name': 'ChatAnthropic', 'run_id': 'cf32020c-93b8-40a2-81c0-f2a5420dd385', 'tags': ['seq:step:2'], 'metadata': {}, 'data': {'chunk': AIMessageChunk(content=' to', id='run-cf32020c-93b8-40a2-81c0-f2a5420dd385')}}\n",
      "-----\n",
      "{'event': 'on_parser_stream', 'name': 'StrOutputParser', 'run_id': 'a59d32d6-c017-4a1b-a51d-98fba9572138', 'tags': ['seq:step:3'], 'metadata': {}, 'data': {'chunk': ' to'}}\n",
      "-----\n",
      "{'event': 'on_chain_stream', 'run_id': 'a8da92f9-01a9-4922-a606-8605cb89589d', 'tags': [], 'metadata': {}, 'name': 'RunnableSequence', 'data': {'chunk': ' to'}}\n",
      "-----\n",
      "{'event': 'on_chat_model_stream', 'name': 'ChatAnthropic', 'run_id': 'cf32020c-93b8-40a2-81c0-f2a5420dd385', 'tags': ['seq:step:2'], 'metadata': {}, 'data': {'chunk': AIMessageChunk(content=' the', id='run-cf32020c-93b8-40a2-81c0-f2a5420dd385')}}\n",
      "-----\n",
      "{'event': 'on_parser_stream', 'name': 'StrOutputParser', 'run_id': 'a59d32d6-c017-4a1b-a51d-98fba9572138', 'tags': ['seq:step:3'], 'metadata': {}, 'data': {'chunk': ' the'}}\n",
      "-----\n",
      "{'event': 'on_chain_stream', 'run_id': 'a8da92f9-01a9-4922-a606-8605cb89589d', 'tags': [], 'metadata': {}, 'name': 'RunnableSequence', 'data': {'chunk': ' the'}}\n",
      "-----\n",
      "{'event': 'on_chat_model_stream', 'name': 'ChatAnthropic', 'run_id': 'cf32020c-93b8-40a2-81c0-f2a5420dd385', 'tags': ['seq:step:2'], 'metadata': {}, 'data': {'chunk': AIMessageChunk(content=' actual', id='run-cf32020c-93b8-40a2-81c0-f2a5420dd385')}}\n",
      "-----\n",
      "{'event': 'on_parser_stream', 'name': 'StrOutputParser', 'run_id': 'a59d32d6-c017-4a1b-a51d-98fba9572138', 'tags': ['seq:step:3'], 'metadata': {}, 'data': {'chunk': ' actual'}}\n",
      "-----\n",
      "{'event': 'on_chain_stream', 'run_id': 'a8da92f9-01a9-4922-a606-8605cb89589d', 'tags': [], 'metadata': {}, 'name': 'RunnableSequence', 'data': {'chunk': ' actual'}}\n",
      "-----\n",
      "{'event': 'on_chat_model_stream', 'name': 'ChatAnthropic', 'run_id': 'cf32020c-93b8-40a2-81c0-f2a5420dd385', 'tags': ['seq:step:2'], 'metadata': {}, 'data': {'chunk': AIMessageChunk(content=' current', id='run-cf32020c-93b8-40a2-81c0-f2a5420dd385')}}\n",
      "-----\n",
      "{'event': 'on_parser_stream', 'name': 'StrOutputParser', 'run_id': 'a59d32d6-c017-4a1b-a51d-98fba9572138', 'tags': ['seq:step:3'], 'metadata': {}, 'data': {'chunk': ' current'}}\n",
      "-----\n",
      "{'event': 'on_chain_stream', 'run_id': 'a8da92f9-01a9-4922-a606-8605cb89589d', 'tags': [], 'metadata': {}, 'name': 'RunnableSequence', 'data': {'chunk': ' current'}}\n",
      "-----\n",
      "{'event': 'on_chat_model_stream', 'name': 'ChatAnthropic', 'run_id': 'cf32020c-93b8-40a2-81c0-f2a5420dd385', 'tags': ['seq:step:2'], 'metadata': {}, 'data': {'chunk': AIMessageChunk(content=' date', id='run-cf32020c-93b8-40a2-81c0-f2a5420dd385')}}\n",
      "-----\n",
      "{'event': 'on_parser_stream', 'name': 'StrOutputParser', 'run_id': 'a59d32d6-c017-4a1b-a51d-98fba9572138', 'tags': ['seq:step:3'], 'metadata': {}, 'data': {'chunk': ' date'}}\n",
      "-----\n",
      "{'event': 'on_chain_stream', 'run_id': 'a8da92f9-01a9-4922-a606-8605cb89589d', 'tags': [], 'metadata': {}, 'name': 'RunnableSequence', 'data': {'chunk': ' date'}}\n",
      "-----\n",
      "{'event': 'on_chat_model_stream', 'name': 'ChatAnthropic', 'run_id': 'cf32020c-93b8-40a2-81c0-f2a5420dd385', 'tags': ['seq:step:2'], 'metadata': {}, 'data': {'chunk': AIMessageChunk(content='.', id='run-cf32020c-93b8-40a2-81c0-f2a5420dd385')}}\n",
      "-----\n",
      "{'event': 'on_parser_stream', 'name': 'StrOutputParser', 'run_id': 'a59d32d6-c017-4a1b-a51d-98fba9572138', 'tags': ['seq:step:3'], 'metadata': {}, 'data': {'chunk': '.'}}\n",
      "-----\n",
      "{'event': 'on_chain_stream', 'run_id': 'a8da92f9-01a9-4922-a606-8605cb89589d', 'tags': [], 'metadata': {}, 'name': 'RunnableSequence', 'data': {'chunk': '.'}}\n",
      "-----\n",
      "{'event': 'on_chat_model_stream', 'name': 'ChatAnthropic', 'run_id': 'cf32020c-93b8-40a2-81c0-f2a5420dd385', 'tags': ['seq:step:2'], 'metadata': {}, 'data': {'chunk': AIMessageChunk(content=' I', id='run-cf32020c-93b8-40a2-81c0-f2a5420dd385')}}\n",
      "-----\n",
      "{'event': 'on_parser_stream', 'name': 'StrOutputParser', 'run_id': 'a59d32d6-c017-4a1b-a51d-98fba9572138', 'tags': ['seq:step:3'], 'metadata': {}, 'data': {'chunk': ' I'}}\n",
      "-----\n",
      "{'event': 'on_chain_stream', 'run_id': 'a8da92f9-01a9-4922-a606-8605cb89589d', 'tags': [], 'metadata': {}, 'name': 'RunnableSequence', 'data': {'chunk': ' I'}}\n",
      "-----\n",
      "{'event': 'on_chat_model_stream', 'name': 'ChatAnthropic', 'run_id': 'cf32020c-93b8-40a2-81c0-f2a5420dd385', 'tags': ['seq:step:2'], 'metadata': {}, 'data': {'chunk': AIMessageChunk(content=\"'m\", id='run-cf32020c-93b8-40a2-81c0-f2a5420dd385')}}\n",
      "-----\n",
      "{'event': 'on_parser_stream', 'name': 'StrOutputParser', 'run_id': 'a59d32d6-c017-4a1b-a51d-98fba9572138', 'tags': ['seq:step:3'], 'metadata': {}, 'data': {'chunk': \"'m\"}}\n",
      "-----\n",
      "{'event': 'on_chain_stream', 'run_id': 'a8da92f9-01a9-4922-a606-8605cb89589d', 'tags': [], 'metadata': {}, 'name': 'RunnableSequence', 'data': {'chunk': \"'m\"}}\n",
      "-----\n",
      "{'event': 'on_chat_model_stream', 'name': 'ChatAnthropic', 'run_id': 'cf32020c-93b8-40a2-81c0-f2a5420dd385', 'tags': ['seq:step:2'], 'metadata': {}, 'data': {'chunk': AIMessageChunk(content=' an', id='run-cf32020c-93b8-40a2-81c0-f2a5420dd385')}}\n",
      "-----\n",
      "{'event': 'on_parser_stream', 'name': 'StrOutputParser', 'run_id': 'a59d32d6-c017-4a1b-a51d-98fba9572138', 'tags': ['seq:step:3'], 'metadata': {}, 'data': {'chunk': ' an'}}\n",
      "-----\n",
      "{'event': 'on_chain_stream', 'run_id': 'a8da92f9-01a9-4922-a606-8605cb89589d', 'tags': [], 'metadata': {}, 'name': 'RunnableSequence', 'data': {'chunk': ' an'}}\n",
      "-----\n",
      "{'event': 'on_chat_model_stream', 'name': 'ChatAnthropic', 'run_id': 'cf32020c-93b8-40a2-81c0-f2a5420dd385', 'tags': ['seq:step:2'], 'metadata': {}, 'data': {'chunk': AIMessageChunk(content=' AI', id='run-cf32020c-93b8-40a2-81c0-f2a5420dd385')}}\n",
      "-----\n",
      "{'event': 'on_parser_stream', 'name': 'StrOutputParser', 'run_id': 'a59d32d6-c017-4a1b-a51d-98fba9572138', 'tags': ['seq:step:3'], 'metadata': {}, 'data': {'chunk': ' AI'}}\n",
      "-----\n",
      "{'event': 'on_chain_stream', 'run_id': 'a8da92f9-01a9-4922-a606-8605cb89589d', 'tags': [], 'metadata': {}, 'name': 'RunnableSequence', 'data': {'chunk': ' AI'}}\n",
      "-----\n",
      "{'event': 'on_chat_model_stream', 'name': 'ChatAnthropic', 'run_id': 'cf32020c-93b8-40a2-81c0-f2a5420dd385', 'tags': ['seq:step:2'], 'metadata': {}, 'data': {'chunk': AIMessageChunk(content=' assistant', id='run-cf32020c-93b8-40a2-81c0-f2a5420dd385')}}\n",
      "-----\n",
      "{'event': 'on_parser_stream', 'name': 'StrOutputParser', 'run_id': 'a59d32d6-c017-4a1b-a51d-98fba9572138', 'tags': ['seq:step:3'], 'metadata': {}, 'data': {'chunk': ' assistant'}}\n",
      "-----\n",
      "{'event': 'on_chain_stream', 'run_id': 'a8da92f9-01a9-4922-a606-8605cb89589d', 'tags': [], 'metadata': {}, 'name': 'RunnableSequence', 'data': {'chunk': ' assistant'}}\n",
      "-----\n",
      "{'event': 'on_chat_model_stream', 'name': 'ChatAnthropic', 'run_id': 'cf32020c-93b8-40a2-81c0-f2a5420dd385', 'tags': ['seq:step:2'], 'metadata': {}, 'data': {'chunk': AIMessageChunk(content=' created', id='run-cf32020c-93b8-40a2-81c0-f2a5420dd385')}}\n",
      "-----\n",
      "{'event': 'on_parser_stream', 'name': 'StrOutputParser', 'run_id': 'a59d32d6-c017-4a1b-a51d-98fba9572138', 'tags': ['seq:step:3'], 'metadata': {}, 'data': {'chunk': ' created'}}\n",
      "-----\n",
      "{'event': 'on_chain_stream', 'run_id': 'a8da92f9-01a9-4922-a606-8605cb89589d', 'tags': [], 'metadata': {}, 'name': 'RunnableSequence', 'data': {'chunk': ' created'}}\n",
      "-----\n",
      "{'event': 'on_chat_model_stream', 'name': 'ChatAnthropic', 'run_id': 'cf32020c-93b8-40a2-81c0-f2a5420dd385', 'tags': ['seq:step:2'], 'metadata': {}, 'data': {'chunk': AIMessageChunk(content=' by', id='run-cf32020c-93b8-40a2-81c0-f2a5420dd385')}}\n",
      "-----\n",
      "{'event': 'on_parser_stream', 'name': 'StrOutputParser', 'run_id': 'a59d32d6-c017-4a1b-a51d-98fba9572138', 'tags': ['seq:step:3'], 'metadata': {}, 'data': {'chunk': ' by'}}\n",
      "-----\n",
      "{'event': 'on_chain_stream', 'run_id': 'a8da92f9-01a9-4922-a606-8605cb89589d', 'tags': [], 'metadata': {}, 'name': 'RunnableSequence', 'data': {'chunk': ' by'}}\n",
      "-----\n",
      "{'event': 'on_chat_model_stream', 'name': 'ChatAnthropic', 'run_id': 'cf32020c-93b8-40a2-81c0-f2a5420dd385', 'tags': ['seq:step:2'], 'metadata': {}, 'data': {'chunk': AIMessageChunk(content=' Anthrop', id='run-cf32020c-93b8-40a2-81c0-f2a5420dd385')}}\n",
      "-----\n",
      "{'event': 'on_parser_stream', 'name': 'StrOutputParser', 'run_id': 'a59d32d6-c017-4a1b-a51d-98fba9572138', 'tags': ['seq:step:3'], 'metadata': {}, 'data': {'chunk': ' Anthrop'}}\n",
      "-----\n",
      "{'event': 'on_chain_stream', 'run_id': 'a8da92f9-01a9-4922-a606-8605cb89589d', 'tags': [], 'metadata': {}, 'name': 'RunnableSequence', 'data': {'chunk': ' Anthrop'}}\n",
      "-----\n",
      "{'event': 'on_chat_model_stream', 'name': 'ChatAnthropic', 'run_id': 'cf32020c-93b8-40a2-81c0-f2a5420dd385', 'tags': ['seq:step:2'], 'metadata': {}, 'data': {'chunk': AIMessageChunk(content='ic', id='run-cf32020c-93b8-40a2-81c0-f2a5420dd385')}}\n",
      "-----\n",
      "{'event': 'on_parser_stream', 'name': 'StrOutputParser', 'run_id': 'a59d32d6-c017-4a1b-a51d-98fba9572138', 'tags': ['seq:step:3'], 'metadata': {}, 'data': {'chunk': 'ic'}}\n",
      "-----\n",
      "{'event': 'on_chain_stream', 'run_id': 'a8da92f9-01a9-4922-a606-8605cb89589d', 'tags': [], 'metadata': {}, 'name': 'RunnableSequence', 'data': {'chunk': 'ic'}}\n",
      "-----\n",
      "{'event': 'on_chat_model_stream', 'name': 'ChatAnthropic', 'run_id': 'cf32020c-93b8-40a2-81c0-f2a5420dd385', 'tags': ['seq:step:2'], 'metadata': {}, 'data': {'chunk': AIMessageChunk(content=' to', id='run-cf32020c-93b8-40a2-81c0-f2a5420dd385')}}\n",
      "-----\n",
      "{'event': 'on_parser_stream', 'name': 'StrOutputParser', 'run_id': 'a59d32d6-c017-4a1b-a51d-98fba9572138', 'tags': ['seq:step:3'], 'metadata': {}, 'data': {'chunk': ' to'}}\n",
      "-----\n",
      "{'event': 'on_chain_stream', 'run_id': 'a8da92f9-01a9-4922-a606-8605cb89589d', 'tags': [], 'metadata': {}, 'name': 'RunnableSequence', 'data': {'chunk': ' to'}}\n",
      "-----\n",
      "{'event': 'on_chat_model_stream', 'name': 'ChatAnthropic', 'run_id': 'cf32020c-93b8-40a2-81c0-f2a5420dd385', 'tags': ['seq:step:2'], 'metadata': {}, 'data': {'chunk': AIMessageChunk(content=' be', id='run-cf32020c-93b8-40a2-81c0-f2a5420dd385')}}\n",
      "-----\n",
      "{'event': 'on_parser_stream', 'name': 'StrOutputParser', 'run_id': 'a59d32d6-c017-4a1b-a51d-98fba9572138', 'tags': ['seq:step:3'], 'metadata': {}, 'data': {'chunk': ' be'}}\n",
      "-----\n",
      "{'event': 'on_chain_stream', 'run_id': 'a8da92f9-01a9-4922-a606-8605cb89589d', 'tags': [], 'metadata': {}, 'name': 'RunnableSequence', 'data': {'chunk': ' be'}}\n",
      "-----\n",
      "{'event': 'on_chat_model_stream', 'name': 'ChatAnthropic', 'run_id': 'cf32020c-93b8-40a2-81c0-f2a5420dd385', 'tags': ['seq:step:2'], 'metadata': {}, 'data': {'chunk': AIMessageChunk(content=' helpful', id='run-cf32020c-93b8-40a2-81c0-f2a5420dd385')}}\n",
      "-----\n",
      "{'event': 'on_parser_stream', 'name': 'StrOutputParser', 'run_id': 'a59d32d6-c017-4a1b-a51d-98fba9572138', 'tags': ['seq:step:3'], 'metadata': {}, 'data': {'chunk': ' helpful'}}\n",
      "-----\n",
      "{'event': 'on_chain_stream', 'run_id': 'a8da92f9-01a9-4922-a606-8605cb89589d', 'tags': [], 'metadata': {}, 'name': 'RunnableSequence', 'data': {'chunk': ' helpful'}}\n",
      "-----\n",
      "{'event': 'on_chat_model_stream', 'name': 'ChatAnthropic', 'run_id': 'cf32020c-93b8-40a2-81c0-f2a5420dd385', 'tags': ['seq:step:2'], 'metadata': {}, 'data': {'chunk': AIMessageChunk(content=',', id='run-cf32020c-93b8-40a2-81c0-f2a5420dd385')}}\n",
      "-----\n",
      "{'event': 'on_parser_stream', 'name': 'StrOutputParser', 'run_id': 'a59d32d6-c017-4a1b-a51d-98fba9572138', 'tags': ['seq:step:3'], 'metadata': {}, 'data': {'chunk': ','}}\n",
      "-----\n",
      "{'event': 'on_chain_stream', 'run_id': 'a8da92f9-01a9-4922-a606-8605cb89589d', 'tags': [], 'metadata': {}, 'name': 'RunnableSequence', 'data': {'chunk': ','}}\n",
      "-----\n",
      "{'event': 'on_chat_model_stream', 'name': 'ChatAnthropic', 'run_id': 'cf32020c-93b8-40a2-81c0-f2a5420dd385', 'tags': ['seq:step:2'], 'metadata': {}, 'data': {'chunk': AIMessageChunk(content=' harm', id='run-cf32020c-93b8-40a2-81c0-f2a5420dd385')}}\n",
      "-----\n",
      "{'event': 'on_parser_stream', 'name': 'StrOutputParser', 'run_id': 'a59d32d6-c017-4a1b-a51d-98fba9572138', 'tags': ['seq:step:3'], 'metadata': {}, 'data': {'chunk': ' harm'}}\n",
      "-----\n",
      "{'event': 'on_chain_stream', 'run_id': 'a8da92f9-01a9-4922-a606-8605cb89589d', 'tags': [], 'metadata': {}, 'name': 'RunnableSequence', 'data': {'chunk': ' harm'}}\n",
      "-----\n",
      "{'event': 'on_chat_model_stream', 'name': 'ChatAnthropic', 'run_id': 'cf32020c-93b8-40a2-81c0-f2a5420dd385', 'tags': ['seq:step:2'], 'metadata': {}, 'data': {'chunk': AIMessageChunk(content='less', id='run-cf32020c-93b8-40a2-81c0-f2a5420dd385')}}\n",
      "-----\n",
      "{'event': 'on_parser_stream', 'name': 'StrOutputParser', 'run_id': 'a59d32d6-c017-4a1b-a51d-98fba9572138', 'tags': ['seq:step:3'], 'metadata': {}, 'data': {'chunk': 'less'}}\n",
      "-----\n",
      "{'event': 'on_chain_stream', 'run_id': 'a8da92f9-01a9-4922-a606-8605cb89589d', 'tags': [], 'metadata': {}, 'name': 'RunnableSequence', 'data': {'chunk': 'less'}}\n",
      "-----\n",
      "{'event': 'on_chat_model_stream', 'name': 'ChatAnthropic', 'run_id': 'cf32020c-93b8-40a2-81c0-f2a5420dd385', 'tags': ['seq:step:2'], 'metadata': {}, 'data': {'chunk': AIMessageChunk(content=',', id='run-cf32020c-93b8-40a2-81c0-f2a5420dd385')}}\n",
      "-----\n",
      "{'event': 'on_parser_stream', 'name': 'StrOutputParser', 'run_id': 'a59d32d6-c017-4a1b-a51d-98fba9572138', 'tags': ['seq:step:3'], 'metadata': {}, 'data': {'chunk': ','}}\n",
      "-----\n",
      "{'event': 'on_chain_stream', 'run_id': 'a8da92f9-01a9-4922-a606-8605cb89589d', 'tags': [], 'metadata': {}, 'name': 'RunnableSequence', 'data': {'chunk': ','}}\n",
      "-----\n",
      "{'event': 'on_chat_model_stream', 'name': 'ChatAnthropic', 'run_id': 'cf32020c-93b8-40a2-81c0-f2a5420dd385', 'tags': ['seq:step:2'], 'metadata': {}, 'data': {'chunk': AIMessageChunk(content=' and', id='run-cf32020c-93b8-40a2-81c0-f2a5420dd385')}}\n",
      "-----\n",
      "{'event': 'on_parser_stream', 'name': 'StrOutputParser', 'run_id': 'a59d32d6-c017-4a1b-a51d-98fba9572138', 'tags': ['seq:step:3'], 'metadata': {}, 'data': {'chunk': ' and'}}\n",
      "-----\n",
      "{'event': 'on_chain_stream', 'run_id': 'a8da92f9-01a9-4922-a606-8605cb89589d', 'tags': [], 'metadata': {}, 'name': 'RunnableSequence', 'data': {'chunk': ' and'}}\n",
      "-----\n",
      "{'event': 'on_chat_model_stream', 'name': 'ChatAnthropic', 'run_id': 'cf32020c-93b8-40a2-81c0-f2a5420dd385', 'tags': ['seq:step:2'], 'metadata': {}, 'data': {'chunk': AIMessageChunk(content=' honest', id='run-cf32020c-93b8-40a2-81c0-f2a5420dd385')}}\n",
      "-----\n",
      "{'event': 'on_parser_stream', 'name': 'StrOutputParser', 'run_id': 'a59d32d6-c017-4a1b-a51d-98fba9572138', 'tags': ['seq:step:3'], 'metadata': {}, 'data': {'chunk': ' honest'}}\n",
      "-----\n",
      "{'event': 'on_chain_stream', 'run_id': 'a8da92f9-01a9-4922-a606-8605cb89589d', 'tags': [], 'metadata': {}, 'name': 'RunnableSequence', 'data': {'chunk': ' honest'}}\n",
      "-----\n",
      "{'event': 'on_chat_model_stream', 'name': 'ChatAnthropic', 'run_id': 'cf32020c-93b8-40a2-81c0-f2a5420dd385', 'tags': ['seq:step:2'], 'metadata': {}, 'data': {'chunk': AIMessageChunk(content='.', id='run-cf32020c-93b8-40a2-81c0-f2a5420dd385')}}\n",
      "-----\n",
      "{'event': 'on_parser_stream', 'name': 'StrOutputParser', 'run_id': 'a59d32d6-c017-4a1b-a51d-98fba9572138', 'tags': ['seq:step:3'], 'metadata': {}, 'data': {'chunk': '.'}}\n",
      "-----\n",
      "{'event': 'on_chain_stream', 'run_id': 'a8da92f9-01a9-4922-a606-8605cb89589d', 'tags': [], 'metadata': {}, 'name': 'RunnableSequence', 'data': {'chunk': '.'}}\n",
      "-----\n",
      "{'event': 'on_chat_model_end', 'name': 'ChatAnthropic', 'run_id': 'cf32020c-93b8-40a2-81c0-f2a5420dd385', 'tags': ['seq:step:2'], 'metadata': {}, 'data': {'input': {'messages': [[SystemMessage(content='You know that the current date is \"2024-04-15\".'), HumanMessage(content='What is the current date?')]]}, 'output': {'generations': [[{'text': 'I do not actually know the current date. In your previous message, you stated that the current date is \"2024-04-15\", but I do not have access to the actual current date. I\\'m an AI assistant created by Anthropic to be helpful, harmless, and honest.', 'generation_info': None, 'type': 'ChatGenerationChunk', 'message': AIMessageChunk(content='I do not actually know the current date. In your previous message, you stated that the current date is \"2024-04-15\", but I do not have access to the actual current date. I\\'m an AI assistant created by Anthropic to be helpful, harmless, and honest.', id='run-cf32020c-93b8-40a2-81c0-f2a5420dd385')}]], 'llm_output': None, 'run': None}}}\n",
      "-----\n",
      "{'event': 'on_parser_end', 'name': 'StrOutputParser', 'run_id': 'a59d32d6-c017-4a1b-a51d-98fba9572138', 'tags': ['seq:step:3'], 'metadata': {}, 'data': {'input': AIMessageChunk(content='I do not actually know the current date. In your previous message, you stated that the current date is \"2024-04-15\", but I do not have access to the actual current date. I\\'m an AI assistant created by Anthropic to be helpful, harmless, and honest.', id='run-cf32020c-93b8-40a2-81c0-f2a5420dd385'), 'output': 'I do not actually know the current date. In your previous message, you stated that the current date is \"2024-04-15\", but I do not have access to the actual current date. I\\'m an AI assistant created by Anthropic to be helpful, harmless, and honest.'}}\n",
      "-----\n",
      "{'event': 'on_chain_end', 'name': 'RunnableSequence', 'run_id': 'a8da92f9-01a9-4922-a606-8605cb89589d', 'tags': [], 'metadata': {}, 'data': {'output': 'I do not actually know the current date. In your previous message, you stated that the current date is \"2024-04-15\", but I do not have access to the actual current date. I\\'m an AI assistant created by Anthropic to be helpful, harmless, and honest.'}}\n",
      "-----\n"
     ]
    }
   ],
   "source": [
    "# Turn off debug mode for clarity\n",
    "set_debug(False)\n",
    "\n",
    "stream = chain.astream_events({\n",
    "    \"question\": \"What is the current date?\",\n",
    "    \"current_date\": date.today()\n",
    "}, version=\"v1\")\n",
    "\n",
    "async for event in stream:\n",
    "    print(event)\n",
    "    print(\"-----\")"
   ]
  },
  {
   "cell_type": "code",
   "execution_count": null,
   "metadata": {},
   "outputs": [],
   "source": []
  }
 ],
 "metadata": {
  "kernelspec": {
   "display_name": "cloudspace",
   "language": "python",
   "name": "python3"
  },
  "language_info": {
   "codemirror_mode": {
    "name": "ipython",
    "version": 3
   },
   "file_extension": ".py",
   "mimetype": "text/x-python",
   "name": "python",
   "nbconvert_exporter": "python",
   "pygments_lexer": "ipython3",
   "version": "3.10.10"
  }
 },
 "nbformat": 4,
 "nbformat_minor": 2
}
